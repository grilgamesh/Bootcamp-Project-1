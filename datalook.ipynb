{
 "cells": [
  {
   "cell_type": "markdown",
   "id": "ff1300fb",
   "metadata": {},
   "source": [
    "# Importing Dependencies and Set up"
   ]
  },
  {
   "cell_type": "code",
   "execution_count": 1,
   "id": "6153d9b8",
   "metadata": {},
   "outputs": [],
   "source": [
    "import pandas as pd\n",
    "import matplotlib.pyplot as plt\n",
    "import scipy.stats as st\n",
    "import numpy as np\n",
    "import random\n",
    "import seaborn as sns"
   ]
  },
  {
   "cell_type": "code",
   "execution_count": 2,
   "id": "d89c4eff",
   "metadata": {},
   "outputs": [
    {
     "data": {
      "text/html": [
       "<div>\n",
       "<style scoped>\n",
       "    .dataframe tbody tr th:only-of-type {\n",
       "        vertical-align: middle;\n",
       "    }\n",
       "\n",
       "    .dataframe tbody tr th {\n",
       "        vertical-align: top;\n",
       "    }\n",
       "\n",
       "    .dataframe thead th {\n",
       "        text-align: right;\n",
       "    }\n",
       "</style>\n",
       "<table border=\"1\" class=\"dataframe\">\n",
       "  <thead>\n",
       "    <tr style=\"text-align: right;\">\n",
       "      <th></th>\n",
       "      <th>Manufacturer</th>\n",
       "      <th>Model</th>\n",
       "      <th>Description</th>\n",
       "      <th>Transmission</th>\n",
       "      <th>Manual or Automatic</th>\n",
       "      <th>Engine Capacity</th>\n",
       "      <th>Fuel Type</th>\n",
       "      <th>Powertrain</th>\n",
       "      <th>Engine Power (PS)</th>\n",
       "      <th>Engine Power (Kw)</th>\n",
       "      <th>...</th>\n",
       "      <th>Emissions CO [mg/km]</th>\n",
       "      <th>THC Emissions [mg/km]</th>\n",
       "      <th>Emissions NOx [mg/km]</th>\n",
       "      <th>THC + NOx Emissions [mg/km]</th>\n",
       "      <th>Particulates [No.] [mg/km]</th>\n",
       "      <th>RDE NOx Urban</th>\n",
       "      <th>RDE NOx Combined</th>\n",
       "      <th>Noise Level dB(A)</th>\n",
       "      <th>Date of change</th>\n",
       "      <th>Cleaned CO2</th>\n",
       "    </tr>\n",
       "  </thead>\n",
       "  <tbody>\n",
       "    <tr>\n",
       "      <th>0</th>\n",
       "      <td>ABARTH</td>\n",
       "      <td>595</td>\n",
       "      <td>1.4 TJET 145bhp</td>\n",
       "      <td>M5</td>\n",
       "      <td>Manual</td>\n",
       "      <td>1368.0</td>\n",
       "      <td>Petrol</td>\n",
       "      <td>Internal Combustion Engine (ICE)</td>\n",
       "      <td>145.0</td>\n",
       "      <td>107.0</td>\n",
       "      <td>...</td>\n",
       "      <td>829.0</td>\n",
       "      <td>39.0</td>\n",
       "      <td>20.0</td>\n",
       "      <td>59.0</td>\n",
       "      <td>NaN</td>\n",
       "      <td>NaN</td>\n",
       "      <td>NaN</td>\n",
       "      <td>74.0</td>\n",
       "      <td>09-Feb-22</td>\n",
       "      <td>161.0</td>\n",
       "    </tr>\n",
       "    <tr>\n",
       "      <th>1</th>\n",
       "      <td>ABARTH</td>\n",
       "      <td>595</td>\n",
       "      <td>1.4 TJET 145bhp</td>\n",
       "      <td>M5</td>\n",
       "      <td>Manual</td>\n",
       "      <td>1368.0</td>\n",
       "      <td>Petrol</td>\n",
       "      <td>Internal Combustion Engine (ICE)</td>\n",
       "      <td>145.0</td>\n",
       "      <td>107.0</td>\n",
       "      <td>...</td>\n",
       "      <td>829.0</td>\n",
       "      <td>39.0</td>\n",
       "      <td>20.0</td>\n",
       "      <td>59.0</td>\n",
       "      <td>NaN</td>\n",
       "      <td>NaN</td>\n",
       "      <td>NaN</td>\n",
       "      <td>74.0</td>\n",
       "      <td>09-Feb-22</td>\n",
       "      <td>153.0</td>\n",
       "    </tr>\n",
       "    <tr>\n",
       "      <th>2</th>\n",
       "      <td>ABARTH</td>\n",
       "      <td>595</td>\n",
       "      <td>595 1.4 145 BHP</td>\n",
       "      <td>M5</td>\n",
       "      <td>Manual</td>\n",
       "      <td>1368.0</td>\n",
       "      <td>Petrol</td>\n",
       "      <td>Internal Combustion Engine (ICE)</td>\n",
       "      <td>145.0</td>\n",
       "      <td>107.0</td>\n",
       "      <td>...</td>\n",
       "      <td>760.0</td>\n",
       "      <td>52.0</td>\n",
       "      <td>27.0</td>\n",
       "      <td>79.0</td>\n",
       "      <td>NaN</td>\n",
       "      <td>NaN</td>\n",
       "      <td>NaN</td>\n",
       "      <td>73.5</td>\n",
       "      <td>05-Oct-20</td>\n",
       "      <td>169.0</td>\n",
       "    </tr>\n",
       "    <tr>\n",
       "      <th>3</th>\n",
       "      <td>ABARTH</td>\n",
       "      <td>595</td>\n",
       "      <td>595 1.4 145 BHP</td>\n",
       "      <td>M5</td>\n",
       "      <td>Manual</td>\n",
       "      <td>1368.0</td>\n",
       "      <td>Petrol</td>\n",
       "      <td>Internal Combustion Engine (ICE)</td>\n",
       "      <td>145.0</td>\n",
       "      <td>107.0</td>\n",
       "      <td>...</td>\n",
       "      <td>760.0</td>\n",
       "      <td>52.0</td>\n",
       "      <td>27.0</td>\n",
       "      <td>79.0</td>\n",
       "      <td>NaN</td>\n",
       "      <td>NaN</td>\n",
       "      <td>NaN</td>\n",
       "      <td>73.5</td>\n",
       "      <td>05-Oct-20</td>\n",
       "      <td>162.0</td>\n",
       "    </tr>\n",
       "    <tr>\n",
       "      <th>4</th>\n",
       "      <td>ABARTH</td>\n",
       "      <td>595</td>\n",
       "      <td>595 1.4 145 BHP Convertible</td>\n",
       "      <td>M5</td>\n",
       "      <td>Manual</td>\n",
       "      <td>1368.0</td>\n",
       "      <td>Petrol</td>\n",
       "      <td>Internal Combustion Engine (ICE)</td>\n",
       "      <td>145.0</td>\n",
       "      <td>107.0</td>\n",
       "      <td>...</td>\n",
       "      <td>760.0</td>\n",
       "      <td>52.0</td>\n",
       "      <td>27.0</td>\n",
       "      <td>79.0</td>\n",
       "      <td>NaN</td>\n",
       "      <td>NaN</td>\n",
       "      <td>NaN</td>\n",
       "      <td>73.5</td>\n",
       "      <td>02-Jul-21</td>\n",
       "      <td>169.0</td>\n",
       "    </tr>\n",
       "  </tbody>\n",
       "</table>\n",
       "<p>5 rows × 45 columns</p>\n",
       "</div>"
      ],
      "text/plain": [
       "  Manufacturer Model                  Description Transmission  \\\n",
       "0       ABARTH   595              1.4 TJET 145bhp           M5   \n",
       "1       ABARTH   595              1.4 TJET 145bhp           M5   \n",
       "2       ABARTH   595             595 1.4 145 BHP            M5   \n",
       "3       ABARTH   595              595 1.4 145 BHP           M5   \n",
       "4       ABARTH   595  595 1.4 145 BHP Convertible           M5   \n",
       "\n",
       "  Manual or Automatic  Engine Capacity Fuel Type  \\\n",
       "0              Manual           1368.0    Petrol   \n",
       "1              Manual           1368.0    Petrol   \n",
       "2              Manual           1368.0    Petrol   \n",
       "3              Manual           1368.0    Petrol   \n",
       "4              Manual           1368.0    Petrol   \n",
       "\n",
       "                         Powertrain  Engine Power (PS)  Engine Power (Kw)  \\\n",
       "0  Internal Combustion Engine (ICE)              145.0              107.0   \n",
       "1  Internal Combustion Engine (ICE)              145.0              107.0   \n",
       "2  Internal Combustion Engine (ICE)              145.0              107.0   \n",
       "3  Internal Combustion Engine (ICE)              145.0              107.0   \n",
       "4  Internal Combustion Engine (ICE)              145.0              107.0   \n",
       "\n",
       "   ...  Emissions CO [mg/km]  THC Emissions [mg/km]  Emissions NOx [mg/km]  \\\n",
       "0  ...                 829.0                   39.0                   20.0   \n",
       "1  ...                 829.0                   39.0                   20.0   \n",
       "2  ...                 760.0                   52.0                   27.0   \n",
       "3  ...                 760.0                   52.0                   27.0   \n",
       "4  ...                 760.0                   52.0                   27.0   \n",
       "\n",
       "   THC + NOx Emissions [mg/km] Particulates [No.] [mg/km]  RDE NOx Urban  \\\n",
       "0                         59.0                        NaN            NaN   \n",
       "1                         59.0                        NaN            NaN   \n",
       "2                         79.0                        NaN            NaN   \n",
       "3                         79.0                        NaN            NaN   \n",
       "4                         79.0                        NaN            NaN   \n",
       "\n",
       "  RDE NOx Combined  Noise Level dB(A)  Date of change  Cleaned CO2  \n",
       "0              NaN               74.0       09-Feb-22        161.0  \n",
       "1              NaN               74.0       09-Feb-22        153.0  \n",
       "2              NaN               73.5       05-Oct-20        169.0  \n",
       "3              NaN               73.5       05-Oct-20        162.0  \n",
       "4              NaN               73.5       02-Jul-21        169.0  \n",
       "\n",
       "[5 rows x 45 columns]"
      ]
     },
     "execution_count": 2,
     "metadata": {},
     "output_type": "execute_result"
    }
   ],
   "source": [
    "euro = \"data/Euro_6_CLEAN.csv\"\n",
    "euro_df = pd.read_csv(euro, encoding='ANSI')\n",
    "euro_df.head()"
   ]
  },
  {
   "cell_type": "code",
   "execution_count": 3,
   "id": "9e9e026c",
   "metadata": {},
   "outputs": [],
   "source": [
    "# show all columns\n",
    "pd.set_option(\"display.max_rows\", 100)\n",
    "pd.set_option(\"display.max_columns\", None)\n"
   ]
  },
  {
   "cell_type": "markdown",
   "id": "00080cdb",
   "metadata": {},
   "source": [
    "## Testing Average Emissions by Fuel type "
   ]
  },
  {
   "cell_type": "code",
   "execution_count": 6,
   "id": "e8da66e1",
   "metadata": {},
   "outputs": [
    {
     "data": {
      "text/html": [
       "<div>\n",
       "<style scoped>\n",
       "    .dataframe tbody tr th:only-of-type {\n",
       "        vertical-align: middle;\n",
       "    }\n",
       "\n",
       "    .dataframe tbody tr th {\n",
       "        vertical-align: top;\n",
       "    }\n",
       "\n",
       "    .dataframe thead th {\n",
       "        text-align: right;\n",
       "    }\n",
       "</style>\n",
       "<table border=\"1\" class=\"dataframe\">\n",
       "  <thead>\n",
       "    <tr style=\"text-align: right;\">\n",
       "      <th></th>\n",
       "      <th>Fuel Type</th>\n",
       "      <th>Cleaned CO2</th>\n",
       "      <th>THC + NOx Emissions [mg/km]</th>\n",
       "      <th>Date of change</th>\n",
       "    </tr>\n",
       "  </thead>\n",
       "  <tbody>\n",
       "    <tr>\n",
       "      <th>0</th>\n",
       "      <td>Petrol</td>\n",
       "      <td>161.0</td>\n",
       "      <td>59.0</td>\n",
       "      <td>2022</td>\n",
       "    </tr>\n",
       "    <tr>\n",
       "      <th>1</th>\n",
       "      <td>Petrol</td>\n",
       "      <td>153.0</td>\n",
       "      <td>59.0</td>\n",
       "      <td>2022</td>\n",
       "    </tr>\n",
       "    <tr>\n",
       "      <th>2</th>\n",
       "      <td>Petrol</td>\n",
       "      <td>169.0</td>\n",
       "      <td>79.0</td>\n",
       "      <td>2020</td>\n",
       "    </tr>\n",
       "    <tr>\n",
       "      <th>3</th>\n",
       "      <td>Petrol</td>\n",
       "      <td>162.0</td>\n",
       "      <td>79.0</td>\n",
       "      <td>2020</td>\n",
       "    </tr>\n",
       "    <tr>\n",
       "      <th>4</th>\n",
       "      <td>Petrol</td>\n",
       "      <td>169.0</td>\n",
       "      <td>79.0</td>\n",
       "      <td>2021</td>\n",
       "    </tr>\n",
       "  </tbody>\n",
       "</table>\n",
       "</div>"
      ],
      "text/plain": [
       "  Fuel Type  Cleaned CO2  THC + NOx Emissions [mg/km] Date of change\n",
       "0    Petrol        161.0                         59.0           2022\n",
       "1    Petrol        153.0                         59.0           2022\n",
       "2    Petrol        169.0                         79.0           2020\n",
       "3    Petrol        162.0                         79.0           2020\n",
       "4    Petrol        169.0                         79.0           2021"
      ]
     },
     "execution_count": 6,
     "metadata": {},
     "output_type": "execute_result"
    }
   ],
   "source": [
    "emission_fueltype = euro_df.loc[:, ['Fuel Type','Cleaned CO2', 'THC + NOx Emissions [mg/km]', 'Date of change']]\n",
    "emission_fueltype[\"Date of change\"] = pd.to_datetime(emission_fueltype[\"Date of change\"]).dt.strftime('%Y')\n",
    "emission_fueltype.head()\n",
    "#emission_date.dtypes"
   ]
  },
  {
   "cell_type": "code",
   "execution_count": 8,
   "id": "4321c677",
   "metadata": {},
   "outputs": [
    {
     "data": {
      "text/html": [
       "<div>\n",
       "<style scoped>\n",
       "    .dataframe tbody tr th:only-of-type {\n",
       "        vertical-align: middle;\n",
       "    }\n",
       "\n",
       "    .dataframe tbody tr th {\n",
       "        vertical-align: top;\n",
       "    }\n",
       "\n",
       "    .dataframe thead th {\n",
       "        text-align: right;\n",
       "    }\n",
       "</style>\n",
       "<table border=\"1\" class=\"dataframe\">\n",
       "  <thead>\n",
       "    <tr style=\"text-align: right;\">\n",
       "      <th></th>\n",
       "      <th>Fuel Type</th>\n",
       "      <th>CO2 Emissions [mg/km]</th>\n",
       "      <th>THC + NOx Emissions [mg/km]</th>\n",
       "      <th>Year</th>\n",
       "    </tr>\n",
       "  </thead>\n",
       "  <tbody>\n",
       "    <tr>\n",
       "      <th>0</th>\n",
       "      <td>Petrol</td>\n",
       "      <td>161.0</td>\n",
       "      <td>59.0</td>\n",
       "      <td>2022</td>\n",
       "    </tr>\n",
       "    <tr>\n",
       "      <th>1</th>\n",
       "      <td>Petrol</td>\n",
       "      <td>153.0</td>\n",
       "      <td>59.0</td>\n",
       "      <td>2022</td>\n",
       "    </tr>\n",
       "    <tr>\n",
       "      <th>2</th>\n",
       "      <td>Petrol</td>\n",
       "      <td>169.0</td>\n",
       "      <td>79.0</td>\n",
       "      <td>2020</td>\n",
       "    </tr>\n",
       "    <tr>\n",
       "      <th>3</th>\n",
       "      <td>Petrol</td>\n",
       "      <td>162.0</td>\n",
       "      <td>79.0</td>\n",
       "      <td>2020</td>\n",
       "    </tr>\n",
       "    <tr>\n",
       "      <th>4</th>\n",
       "      <td>Petrol</td>\n",
       "      <td>169.0</td>\n",
       "      <td>79.0</td>\n",
       "      <td>2021</td>\n",
       "    </tr>\n",
       "  </tbody>\n",
       "</table>\n",
       "</div>"
      ],
      "text/plain": [
       "  Fuel Type  CO2 Emissions [mg/km]  THC + NOx Emissions [mg/km]  Year\n",
       "0    Petrol                  161.0                         59.0  2022\n",
       "1    Petrol                  153.0                         59.0  2022\n",
       "2    Petrol                  169.0                         79.0  2020\n",
       "3    Petrol                  162.0                         79.0  2020\n",
       "4    Petrol                  169.0                         79.0  2021"
      ]
     },
     "execution_count": 8,
     "metadata": {},
     "output_type": "execute_result"
    }
   ],
   "source": [
    "emission_fuelrename = emission_fueltype.rename(columns={\"Cleaned CO2\": \"CO2 Emissions [mg/km]\", \"Date of change\": \"Year\"})\n",
    "emission_fuelrename.head()"
   ]
  },
  {
   "cell_type": "code",
   "execution_count": 11,
   "id": "de8d67f9",
   "metadata": {},
   "outputs": [
    {
     "data": {
      "text/html": [
       "<div>\n",
       "<style scoped>\n",
       "    .dataframe tbody tr th:only-of-type {\n",
       "        vertical-align: middle;\n",
       "    }\n",
       "\n",
       "    .dataframe tbody tr th {\n",
       "        vertical-align: top;\n",
       "    }\n",
       "\n",
       "    .dataframe thead th {\n",
       "        text-align: right;\n",
       "    }\n",
       "</style>\n",
       "<table border=\"1\" class=\"dataframe\">\n",
       "  <thead>\n",
       "    <tr style=\"text-align: right;\">\n",
       "      <th></th>\n",
       "      <th>Year</th>\n",
       "      <th>Fuel Type</th>\n",
       "      <th>CO2 Emissions [mg/km]</th>\n",
       "      <th>THC + NOx Emissions [mg/km]</th>\n",
       "    </tr>\n",
       "  </thead>\n",
       "  <tbody>\n",
       "    <tr>\n",
       "      <th>0</th>\n",
       "      <td>2019</td>\n",
       "      <td>Diesel</td>\n",
       "      <td>154.400000</td>\n",
       "      <td>80.825000</td>\n",
       "    </tr>\n",
       "    <tr>\n",
       "      <th>1</th>\n",
       "      <td>2019</td>\n",
       "      <td>Petrol</td>\n",
       "      <td>158.827160</td>\n",
       "      <td>42.604938</td>\n",
       "    </tr>\n",
       "    <tr>\n",
       "      <th>2</th>\n",
       "      <td>2019</td>\n",
       "      <td>Petrol Electric</td>\n",
       "      <td>116.333333</td>\n",
       "      <td>26.000000</td>\n",
       "    </tr>\n",
       "    <tr>\n",
       "      <th>3</th>\n",
       "      <td>2020</td>\n",
       "      <td>Diesel</td>\n",
       "      <td>180.593137</td>\n",
       "      <td>55.869281</td>\n",
       "    </tr>\n",
       "    <tr>\n",
       "      <th>4</th>\n",
       "      <td>2020</td>\n",
       "      <td>Diesel Electric</td>\n",
       "      <td>114.868852</td>\n",
       "      <td>67.147541</td>\n",
       "    </tr>\n",
       "  </tbody>\n",
       "</table>\n",
       "</div>"
      ],
      "text/plain": [
       "   Year        Fuel Type  CO2 Emissions [mg/km]  THC + NOx Emissions [mg/km]\n",
       "0  2019           Diesel             154.400000                    80.825000\n",
       "1  2019           Petrol             158.827160                    42.604938\n",
       "2  2019  Petrol Electric             116.333333                    26.000000\n",
       "3  2020           Diesel             180.593137                    55.869281\n",
       "4  2020  Diesel Electric             114.868852                    67.147541"
      ]
     },
     "execution_count": 11,
     "metadata": {},
     "output_type": "execute_result"
    }
   ],
   "source": [
    "emission_fuel_groupby = emission_fuelrename.groupby(['Year', 'Fuel Type'], as_index=False)\n",
    "emission_summary_fuel = emission_fuel_groupby.mean()\n",
    "emission_summary_fuel.head()"
   ]
  },
  {
   "cell_type": "code",
   "execution_count": 18,
   "id": "b36500be",
   "metadata": {},
   "outputs": [
    {
     "name": "stderr",
     "output_type": "stream",
     "text": [
      "C:\\Users\\chisi\\anaconda3\\lib\\site-packages\\seaborn\\categorical.py:3717: UserWarning: The `factorplot` function has been renamed to `catplot`. The original name will be removed in a future release. Please update your code. Note that the default `kind` in `factorplot` (`'point'`) has changed `'strip'` in `catplot`.\n",
      "  warnings.warn(msg)\n"
     ]
    },
    {
     "data": {
      "text/plain": [
       "<Figure size 720x720 with 0 Axes>"
      ]
     },
     "metadata": {},
     "output_type": "display_data"
    },
    {
     "data": {
      "image/png": "[encoded data removed]",
      "text/plain": [
       "<Figure size 486.375x360 with 1 Axes>"
      ]
     },
     "metadata": {
      "needs_background": "light"
     },
     "output_type": "display_data"
    }
   ],
   "source": [
    "#ploting a line graph of Average CO2 Emissions by Powertrain \n",
    "plt.figure(figsize=(10,10))\n",
    "sns.factorplot(data=emission_summary_fuel, x=\"Year\", y=\"CO2 Emissions [mg/km]\", hue=\"Fuel Type\")\n",
    "plt.title('Average CO2 Emissions by Fuel Type')\n",
    "plt.show()"
   ]
  },
  {
   "cell_type": "code",
   "execution_count": 14,
   "id": "19ab1abb",
   "metadata": {},
   "outputs": [
    {
     "name": "stderr",
     "output_type": "stream",
     "text": [
      "C:\\Users\\chisi\\anaconda3\\lib\\site-packages\\seaborn\\categorical.py:3717: UserWarning: The `factorplot` function has been renamed to `catplot`. The original name will be removed in a future release. Please update your code. Note that the default `kind` in `factorplot` (`'point'`) has changed `'strip'` in `catplot`.\n",
      "  warnings.warn(msg)\n"
     ]
    },
    {
     "data": {
      "text/plain": [
       "<Figure size 720x720 with 0 Axes>"
      ]
     },
     "metadata": {},
     "output_type": "display_data"
    },
    {
     "data": {
      "image/png": "[encoded data removed]",
      "text/plain": [
       "<Figure size 486.375x360 with 1 Axes>"
      ]
     },
     "metadata": {
      "needs_background": "light"
     },
     "output_type": "display_data"
    }
   ],
   "source": [
    "#ploting a line graph of Average THC + NOx Emissions by Powertrain \n",
    "plt.figure(figsize=(10,10))\n",
    "sns.factorplot(data=emission_summary_fuel, x=\"Year\", y=\"THC + NOx Emissions [mg/km]\", hue=\"Fuel Type\")\n",
    "plt.title('Average THC + NOx Emissions by Fuel Type')\n",
    "plt.show()"
   ]
  },
  {
   "cell_type": "code",
   "execution_count": null,
   "id": "c6a00064",
   "metadata": {},
   "outputs": [],
   "source": []
  },
  {
   "cell_type": "code",
   "execution_count": null,
   "id": "6da87440",
   "metadata": {},
   "outputs": [],
   "source": []
  },
  {
   "cell_type": "code",
   "execution_count": null,
   "id": "144610ea",
   "metadata": {},
   "outputs": [],
   "source": []
  },
  {
   "cell_type": "code",
   "execution_count": null,
   "id": "581309d7",
   "metadata": {},
   "outputs": [],
   "source": []
  },
  {
   "cell_type": "code",
   "execution_count": null,
   "id": "570d07b1",
   "metadata": {},
   "outputs": [],
   "source": []
  },
  {
   "cell_type": "code",
   "execution_count": null,
   "id": "44b31d59",
   "metadata": {},
   "outputs": [],
   "source": []
  },
  {
   "cell_type": "code",
   "execution_count": null,
   "id": "c03c9843",
   "metadata": {},
   "outputs": [],
   "source": []
  }
 ],
 "metadata": {
  "kernelspec": {
   "display_name": "Python 3 (ipykernel)",
   "language": "python",
   "name": "python3"
  },
  "language_info": {
   "codemirror_mode": {
    "name": "ipython",
    "version": 3
   },
   "file_extension": ".py",
   "mimetype": "text/x-python",
   "name": "python",
   "nbconvert_exporter": "python",
   "pygments_lexer": "ipython3",
   "version": "3.9.7"
  }
 },
 "nbformat": 4,
 "nbformat_minor": 5
}
